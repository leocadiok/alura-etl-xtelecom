{
 "cells": [
  {
   "cell_type": "code",
   "execution_count": 2,
   "id": "07cad1a1",
   "metadata": {},
   "outputs": [],
   "source": [
    "import pandas as pd"
   ]
  },
  {
   "cell_type": "markdown",
   "id": "41332eb8",
   "metadata": {},
   "source": [
    "# 📌 Extracão"
   ]
  },
  {
   "cell_type": "code",
   "execution_count": 3,
   "id": "fa7ba154",
   "metadata": {},
   "outputs": [],
   "source": [
    "url = 'https://raw.githubusercontent.com/ingridcristh/challenge2-data-science/main/TelecomX_Data.json'\n",
    "df = pd.read_json(url)"
   ]
  },
  {
   "cell_type": "code",
   "execution_count": 4,
   "id": "25ac3291",
   "metadata": {},
   "outputs": [],
   "source": [
    "def get_customer(df):\n",
    "    gender = df['gender']\n",
    "    SeniorCitizen = df['SeniorCitizen']\n",
    "    Partner = df['Partner']\n",
    "    Dependents = df['Dependents']\n",
    "    tenure = df['tenure']\n",
    "\n",
    "    dados  = {'gender':gender,\n",
    "              'SeniorCitizen':SeniorCitizen,\n",
    "              'Partner':Partner,\n",
    "              'Dependents':Dependents,\n",
    "              'tenure':tenure}\n",
    "\n",
    "    return dados"
   ]
  },
  {
   "cell_type": "code",
   "execution_count": 5,
   "id": "edabaeb8",
   "metadata": {},
   "outputs": [],
   "source": [
    "gender = []\n",
    "SeniorCitizen = []\n",
    "Partner = []\n",
    "Dependents = []\n",
    "tenure = []\n",
    "\n",
    "for i in range(len(df)):\n",
    "   gender.append(df['customer'][i]['gender'])\n",
    "   SeniorCitizen.append(df['customer'][i]['SeniorCitizen'])\n",
    "   Partner.append(df['customer'][i]['Partner'])\n",
    "   Dependents.append(df['customer'][i]['Dependents'])\n",
    "   tenure.append(df['customer'][i]['tenure'])\n",
    "\n",
    "customer  = {'gender':gender,\n",
    "          'SeniorCitizen':SeniorCitizen,\n",
    "          'Partner':Partner,\n",
    "          'Dependents':Dependents,\n",
    "          'tenure':tenure\n",
    "          }\n",
    "\n",
    "customer = pd.DataFrame(customer)"
   ]
  },
  {
   "cell_type": "code",
   "execution_count": 6,
   "id": "c2f2cc71",
   "metadata": {},
   "outputs": [],
   "source": [
    "PhoneService = []\n",
    "MultipleLines = []\n",
    "\n",
    "for i in range(len(df)):\n",
    "   PhoneService.append(df['phone'][i]['PhoneService'])\n",
    "   MultipleLines.append(df['phone'][i]['MultipleLines'])\n",
    "\n",
    "phone = {\n",
    "   'PhoneService':PhoneService,\n",
    "   'MultipleLines':MultipleLines   \n",
    "}\n",
    "\n",
    "phone = pd.DataFrame(phone)"
   ]
  },
  {
   "cell_type": "code",
   "execution_count": 7,
   "id": "3f8b528d",
   "metadata": {},
   "outputs": [],
   "source": [
    "InternetService = []\n",
    "OnlineSecurity = []\n",
    "OnlineBackup = []\n",
    "DeviceProtection = []\n",
    "TechSupport = []\n",
    "StreamingTV = []\n",
    "StreamingMovies = []\n",
    "\n",
    "for i in range(len(df)):\n",
    "   InternetService.append(df['internet'][i]['InternetService'])\n",
    "   OnlineSecurity.append(df['internet'][i]['OnlineSecurity'])\n",
    "   OnlineBackup.append(df['internet'][i]['OnlineBackup'])\n",
    "   DeviceProtection.append(df['internet'][i]['DeviceProtection'])\n",
    "   TechSupport.append(df['internet'][i]['TechSupport'])\n",
    "   StreamingTV.append(df['internet'][i]['StreamingTV'])\n",
    "   StreamingMovies.append(df['internet'][i]['StreamingMovies'])\n",
    "\n",
    "internet = {\n",
    "   'InternetService':InternetService,\n",
    "   'OnlineSecurity':OnlineSecurity,\n",
    "   'OnlineBackup':OnlineBackup,\n",
    "   'DeviceProtection': DeviceProtection,\n",
    "   'TechSupport':TechSupport,\n",
    "   'StreamingTV':StreamingTV,\n",
    "   'StreamingMovies':StreamingMovies\n",
    "}\n",
    "\n",
    "internet = pd.DataFrame(internet)"
   ]
  },
  {
   "cell_type": "code",
   "execution_count": 8,
   "id": "ed526034",
   "metadata": {},
   "outputs": [],
   "source": [
    "Contract = []\n",
    "PaperlessBilling = []\n",
    "PaymentMethod = []\n",
    "Charges_Monthly = []\n",
    "Charges_Total = []\n",
    "\n",
    "for i in range(len(df)):\n",
    "   Contract.append(df['account'][i]['Contract'])\n",
    "   PaperlessBilling.append(df['account'][i]['PaperlessBilling'])\n",
    "   PaymentMethod.append(df['account'][i]['PaymentMethod'])\n",
    "   Charges_Monthly.append(df['account'][i]['Charges']['Monthly'])\n",
    "   Charges_Total.append(df['account'][i]['Charges']['Total'])\n",
    "\n",
    "account = {\n",
    "   'Contract':Contract,\n",
    "   'PaperlessBilling':PaperlessBilling,\n",
    "   'PaymentMethod':PaymentMethod,\n",
    "   'Charges_Monthly':Charges_Monthly,\n",
    "   'Charges_Total':Charges_Total\n",
    "}\n",
    "\n",
    "account = pd.DataFrame(account)\n"
   ]
  },
  {
   "cell_type": "code",
   "execution_count": 9,
   "id": "67909233",
   "metadata": {},
   "outputs": [
    {
     "data": {
      "text/plain": [
       "{'Monthly': 110.15, 'Total': '6448.05'}"
      ]
     },
     "execution_count": 9,
     "metadata": {},
     "output_type": "execute_result"
    }
   ],
   "source": [
    "df['account'][1700]['Charges']"
   ]
  },
  {
   "cell_type": "code",
   "execution_count": 10,
   "id": "13243c91",
   "metadata": {},
   "outputs": [],
   "source": [
    "df_tratada = pd.concat([df,customer,phone,internet,account], axis=1)"
   ]
  },
  {
   "cell_type": "code",
   "execution_count": 11,
   "id": "18c72594",
   "metadata": {},
   "outputs": [
    {
     "name": "stdout",
     "output_type": "stream",
     "text": [
      "      customerID Churn  gender  SeniorCitizen Partner Dependents  tenure  \\\n",
      "0     0002-ORFBO    No  Female              0     Yes        Yes       9   \n",
      "1     0003-MKNFE    No    Male              0      No         No       9   \n",
      "2     0004-TLHLJ   Yes    Male              0      No         No       4   \n",
      "3     0011-IGKFF   Yes    Male              1     Yes         No      13   \n",
      "4     0013-EXCHZ   Yes  Female              1     Yes         No       3   \n",
      "...          ...   ...     ...            ...     ...        ...     ...   \n",
      "7262  9987-LUTYD    No  Female              0      No         No      13   \n",
      "7263  9992-RRAMN   Yes    Male              0     Yes         No      22   \n",
      "7264  9992-UJOEL    No    Male              0      No         No       2   \n",
      "7265  9993-LHIEB    No    Male              0     Yes        Yes      67   \n",
      "7266  9995-HOTOH    No    Male              0     Yes        Yes      63   \n",
      "\n",
      "     PhoneService     MultipleLines InternetService  ... OnlineBackup  \\\n",
      "0             Yes                No             DSL  ...          Yes   \n",
      "1             Yes               Yes             DSL  ...           No   \n",
      "2             Yes                No     Fiber optic  ...           No   \n",
      "3             Yes                No     Fiber optic  ...          Yes   \n",
      "4             Yes                No     Fiber optic  ...           No   \n",
      "...           ...               ...             ...  ...          ...   \n",
      "7262          Yes                No             DSL  ...           No   \n",
      "7263          Yes               Yes     Fiber optic  ...           No   \n",
      "7264          Yes                No             DSL  ...          Yes   \n",
      "7265          Yes                No             DSL  ...           No   \n",
      "7266           No  No phone service             DSL  ...          Yes   \n",
      "\n",
      "     DeviceProtection TechSupport StreamingTV StreamingMovies        Contract  \\\n",
      "0                  No         Yes         Yes              No        One year   \n",
      "1                  No          No          No             Yes  Month-to-month   \n",
      "2                 Yes          No          No              No  Month-to-month   \n",
      "3                 Yes          No         Yes             Yes  Month-to-month   \n",
      "4                  No         Yes         Yes              No  Month-to-month   \n",
      "...               ...         ...         ...             ...             ...   \n",
      "7262               No         Yes          No              No        One year   \n",
      "7263               No          No          No             Yes  Month-to-month   \n",
      "7264               No          No          No              No  Month-to-month   \n",
      "7265              Yes         Yes          No             Yes        Two year   \n",
      "7266              Yes          No         Yes             Yes        Two year   \n",
      "\n",
      "     PaperlessBilling     PaymentMethod Charges_Monthly  Charges_Total  \n",
      "0                 Yes      Mailed check           65.60          593.3  \n",
      "1                  No      Mailed check           59.90          542.4  \n",
      "2                 Yes  Electronic check           73.90         280.85  \n",
      "3                 Yes  Electronic check           98.00        1237.85  \n",
      "4                 Yes      Mailed check           83.90          267.4  \n",
      "...               ...               ...             ...            ...  \n",
      "7262               No      Mailed check           55.15          742.9  \n",
      "7263              Yes  Electronic check           85.10         1873.7  \n",
      "7264              Yes      Mailed check           50.30          92.75  \n",
      "7265               No      Mailed check           67.85        4627.65  \n",
      "7266               No  Electronic check           59.00         3707.6  \n",
      "\n",
      "[7267 rows x 21 columns]\n"
     ]
    }
   ],
   "source": [
    "df_tratada = df_tratada.drop(columns=['customer','phone','internet','account'])\n",
    "print(df_tratada)"
   ]
  },
  {
   "cell_type": "code",
   "execution_count": 12,
   "id": "89446729",
   "metadata": {},
   "outputs": [
    {
     "data": {
      "text/html": [
       "<div>\n",
       "<style scoped>\n",
       "    .dataframe tbody tr th:only-of-type {\n",
       "        vertical-align: middle;\n",
       "    }\n",
       "\n",
       "    .dataframe tbody tr th {\n",
       "        vertical-align: top;\n",
       "    }\n",
       "\n",
       "    .dataframe thead th {\n",
       "        text-align: right;\n",
       "    }\n",
       "</style>\n",
       "<table border=\"1\" class=\"dataframe\">\n",
       "  <thead>\n",
       "    <tr style=\"text-align: right;\">\n",
       "      <th></th>\n",
       "      <th>customerID</th>\n",
       "      <th>Churn</th>\n",
       "      <th>gender</th>\n",
       "      <th>SeniorCitizen</th>\n",
       "      <th>Partner</th>\n",
       "      <th>Dependents</th>\n",
       "      <th>tenure</th>\n",
       "      <th>PhoneService</th>\n",
       "      <th>MultipleLines</th>\n",
       "      <th>InternetService</th>\n",
       "      <th>...</th>\n",
       "      <th>OnlineBackup</th>\n",
       "      <th>DeviceProtection</th>\n",
       "      <th>TechSupport</th>\n",
       "      <th>StreamingTV</th>\n",
       "      <th>StreamingMovies</th>\n",
       "      <th>Contract</th>\n",
       "      <th>PaperlessBilling</th>\n",
       "      <th>PaymentMethod</th>\n",
       "      <th>Charges_Monthly</th>\n",
       "      <th>Charges_Total</th>\n",
       "    </tr>\n",
       "  </thead>\n",
       "  <tbody>\n",
       "    <tr>\n",
       "      <th>0</th>\n",
       "      <td>0002-ORFBO</td>\n",
       "      <td>No</td>\n",
       "      <td>Female</td>\n",
       "      <td>0</td>\n",
       "      <td>Yes</td>\n",
       "      <td>Yes</td>\n",
       "      <td>9</td>\n",
       "      <td>Yes</td>\n",
       "      <td>No</td>\n",
       "      <td>DSL</td>\n",
       "      <td>...</td>\n",
       "      <td>Yes</td>\n",
       "      <td>No</td>\n",
       "      <td>Yes</td>\n",
       "      <td>Yes</td>\n",
       "      <td>No</td>\n",
       "      <td>One year</td>\n",
       "      <td>Yes</td>\n",
       "      <td>Mailed check</td>\n",
       "      <td>65.6</td>\n",
       "      <td>593.3</td>\n",
       "    </tr>\n",
       "    <tr>\n",
       "      <th>1</th>\n",
       "      <td>0003-MKNFE</td>\n",
       "      <td>No</td>\n",
       "      <td>Male</td>\n",
       "      <td>0</td>\n",
       "      <td>No</td>\n",
       "      <td>No</td>\n",
       "      <td>9</td>\n",
       "      <td>Yes</td>\n",
       "      <td>Yes</td>\n",
       "      <td>DSL</td>\n",
       "      <td>...</td>\n",
       "      <td>No</td>\n",
       "      <td>No</td>\n",
       "      <td>No</td>\n",
       "      <td>No</td>\n",
       "      <td>Yes</td>\n",
       "      <td>Month-to-month</td>\n",
       "      <td>No</td>\n",
       "      <td>Mailed check</td>\n",
       "      <td>59.9</td>\n",
       "      <td>542.4</td>\n",
       "    </tr>\n",
       "    <tr>\n",
       "      <th>2</th>\n",
       "      <td>0004-TLHLJ</td>\n",
       "      <td>Yes</td>\n",
       "      <td>Male</td>\n",
       "      <td>0</td>\n",
       "      <td>No</td>\n",
       "      <td>No</td>\n",
       "      <td>4</td>\n",
       "      <td>Yes</td>\n",
       "      <td>No</td>\n",
       "      <td>Fiber optic</td>\n",
       "      <td>...</td>\n",
       "      <td>No</td>\n",
       "      <td>Yes</td>\n",
       "      <td>No</td>\n",
       "      <td>No</td>\n",
       "      <td>No</td>\n",
       "      <td>Month-to-month</td>\n",
       "      <td>Yes</td>\n",
       "      <td>Electronic check</td>\n",
       "      <td>73.9</td>\n",
       "      <td>280.85</td>\n",
       "    </tr>\n",
       "    <tr>\n",
       "      <th>3</th>\n",
       "      <td>0011-IGKFF</td>\n",
       "      <td>Yes</td>\n",
       "      <td>Male</td>\n",
       "      <td>1</td>\n",
       "      <td>Yes</td>\n",
       "      <td>No</td>\n",
       "      <td>13</td>\n",
       "      <td>Yes</td>\n",
       "      <td>No</td>\n",
       "      <td>Fiber optic</td>\n",
       "      <td>...</td>\n",
       "      <td>Yes</td>\n",
       "      <td>Yes</td>\n",
       "      <td>No</td>\n",
       "      <td>Yes</td>\n",
       "      <td>Yes</td>\n",
       "      <td>Month-to-month</td>\n",
       "      <td>Yes</td>\n",
       "      <td>Electronic check</td>\n",
       "      <td>98.0</td>\n",
       "      <td>1237.85</td>\n",
       "    </tr>\n",
       "    <tr>\n",
       "      <th>4</th>\n",
       "      <td>0013-EXCHZ</td>\n",
       "      <td>Yes</td>\n",
       "      <td>Female</td>\n",
       "      <td>1</td>\n",
       "      <td>Yes</td>\n",
       "      <td>No</td>\n",
       "      <td>3</td>\n",
       "      <td>Yes</td>\n",
       "      <td>No</td>\n",
       "      <td>Fiber optic</td>\n",
       "      <td>...</td>\n",
       "      <td>No</td>\n",
       "      <td>No</td>\n",
       "      <td>Yes</td>\n",
       "      <td>Yes</td>\n",
       "      <td>No</td>\n",
       "      <td>Month-to-month</td>\n",
       "      <td>Yes</td>\n",
       "      <td>Mailed check</td>\n",
       "      <td>83.9</td>\n",
       "      <td>267.4</td>\n",
       "    </tr>\n",
       "  </tbody>\n",
       "</table>\n",
       "<p>5 rows × 21 columns</p>\n",
       "</div>"
      ],
      "text/plain": [
       "   customerID Churn  gender  SeniorCitizen Partner Dependents  tenure  \\\n",
       "0  0002-ORFBO    No  Female              0     Yes        Yes       9   \n",
       "1  0003-MKNFE    No    Male              0      No         No       9   \n",
       "2  0004-TLHLJ   Yes    Male              0      No         No       4   \n",
       "3  0011-IGKFF   Yes    Male              1     Yes         No      13   \n",
       "4  0013-EXCHZ   Yes  Female              1     Yes         No       3   \n",
       "\n",
       "  PhoneService MultipleLines InternetService  ... OnlineBackup  \\\n",
       "0          Yes            No             DSL  ...          Yes   \n",
       "1          Yes           Yes             DSL  ...           No   \n",
       "2          Yes            No     Fiber optic  ...           No   \n",
       "3          Yes            No     Fiber optic  ...          Yes   \n",
       "4          Yes            No     Fiber optic  ...           No   \n",
       "\n",
       "  DeviceProtection TechSupport StreamingTV StreamingMovies        Contract  \\\n",
       "0               No         Yes         Yes              No        One year   \n",
       "1               No          No          No             Yes  Month-to-month   \n",
       "2              Yes          No          No              No  Month-to-month   \n",
       "3              Yes          No         Yes             Yes  Month-to-month   \n",
       "4               No         Yes         Yes              No  Month-to-month   \n",
       "\n",
       "  PaperlessBilling     PaymentMethod Charges_Monthly  Charges_Total  \n",
       "0              Yes      Mailed check            65.6          593.3  \n",
       "1               No      Mailed check            59.9          542.4  \n",
       "2              Yes  Electronic check            73.9         280.85  \n",
       "3              Yes  Electronic check            98.0        1237.85  \n",
       "4              Yes      Mailed check            83.9          267.4  \n",
       "\n",
       "[5 rows x 21 columns]"
      ]
     },
     "execution_count": 12,
     "metadata": {},
     "output_type": "execute_result"
    }
   ],
   "source": [
    "df_tratada.head()"
   ]
  },
  {
   "cell_type": "markdown",
   "id": "34ea58e2",
   "metadata": {},
   "source": [
    "# Analise exploratoria"
   ]
  },
  {
   "cell_type": "code",
   "execution_count": 14,
   "id": "d2c067b5",
   "metadata": {},
   "outputs": [],
   "source": [
    "df = df_tratada "
   ]
  },
  {
   "cell_type": "markdown",
   "id": "110c789b",
   "metadata": {},
   "source": [
    "Antes de qualquer coisa, é fundamental verificar os tipos de dados de cada coluna e a presença de valores ausentes (null). O método .info() é perfeito para isso."
   ]
  },
  {
   "cell_type": "code",
   "execution_count": 16,
   "id": "f5916369",
   "metadata": {},
   "outputs": [
    {
     "name": "stdout",
     "output_type": "stream",
     "text": [
      "\n",
      "Informações do DataFrame:\n",
      "<class 'pandas.core.frame.DataFrame'>\n",
      "RangeIndex: 7267 entries, 0 to 7266\n",
      "Data columns (total 21 columns):\n",
      " #   Column            Non-Null Count  Dtype  \n",
      "---  ------            --------------  -----  \n",
      " 0   customerID        7267 non-null   object \n",
      " 1   Churn             7267 non-null   object \n",
      " 2   gender            7267 non-null   object \n",
      " 3   SeniorCitizen     7267 non-null   int64  \n",
      " 4   Partner           7267 non-null   object \n",
      " 5   Dependents        7267 non-null   object \n",
      " 6   tenure            7267 non-null   int64  \n",
      " 7   PhoneService      7267 non-null   object \n",
      " 8   MultipleLines     7267 non-null   object \n",
      " 9   InternetService   7267 non-null   object \n",
      " 10  OnlineSecurity    7267 non-null   object \n",
      " 11  OnlineBackup      7267 non-null   object \n",
      " 12  DeviceProtection  7267 non-null   object \n",
      " 13  TechSupport       7267 non-null   object \n",
      " 14  StreamingTV       7267 non-null   object \n",
      " 15  StreamingMovies   7267 non-null   object \n",
      " 16  Contract          7267 non-null   object \n",
      " 17  PaperlessBilling  7267 non-null   object \n",
      " 18  PaymentMethod     7267 non-null   object \n",
      " 19  Charges_Monthly   7267 non-null   float64\n",
      " 20  Charges_Total     7267 non-null   object \n",
      "dtypes: float64(1), int64(2), object(18)\n",
      "memory usage: 1.2+ MB\n",
      "None\n"
     ]
    }
   ],
   "source": [
    "print(\"\\nInformações do DataFrame:\")\n",
    "print(df.info())"
   ]
  },
  {
   "cell_type": "code",
   "execution_count": 17,
   "id": "0fa2ae4e",
   "metadata": {},
   "outputs": [
    {
     "name": "stdout",
     "output_type": "stream",
     "text": [
      "\n",
      "Estatísticas descritivas das colunas numéricas:\n",
      "            tenure  Charges_Monthly  Charges_Total\n",
      "count  7267.000000      7267.000000    7267.000000\n",
      "mean     32.346498        64.720098    2277.182035\n",
      "std      24.571773        30.129572    2268.648587\n",
      "min       0.000000        18.250000       0.000000\n",
      "25%       9.000000        35.425000     396.200000\n",
      "50%      29.000000        70.300000    1389.200000\n",
      "75%      55.000000        89.875000    3778.525000\n",
      "max      72.000000       118.750000    8684.800000\n"
     ]
    }
   ],
   "source": [
    "# Substituindo valores nulos na coluna 'Charges_Total' por 0\n",
    "df['Charges_Total'] = pd.to_numeric(df['Charges_Total'], errors='coerce').fillna(0)\n",
    "\n",
    "# Verificando a estatística descritiva das colunas numéricas\n",
    "print(\"\\nEstatísticas descritivas das colunas numéricas:\")\n",
    "print(df[['tenure', 'Charges_Monthly', 'Charges_Total']].describe())"
   ]
  },
  {
   "cell_type": "markdown",
   "id": "f91ed0a0",
   "metadata": {},
   "source": [
    "Principais pontos:\n",
    "\n",
    "A permanência média (tenure) dos clientes é de 32 meses.\n",
    "\n",
    "A média de cobrança mensal (Charges_Monthly) é de 64.76, enquanto a média de cobrança total (Charges_Total) é de 2279.73."
   ]
  },
  {
   "cell_type": "code",
   "execution_count": 18,
   "id": "e807c401",
   "metadata": {},
   "outputs": [
    {
     "name": "stdout",
     "output_type": "stream",
     "text": [
      "\n",
      "Porcentagem de clientes que saíram (Churn) e que ficaram:\n",
      "Churn\n",
      "No     71.198569\n",
      "Yes    25.719004\n",
      "        3.082427\n",
      "Name: proportion, dtype: float64\n"
     ]
    }
   ],
   "source": [
    "churn_count = df['Churn'].value_counts(normalize=True) * 100\n",
    "\n",
    "print(\"\\nPorcentagem de clientes que saíram (Churn) e que ficaram:\")\n",
    "print(churn_count)"
   ]
  },
  {
   "cell_type": "markdown",
   "id": "6f01f1e8",
   "metadata": {},
   "source": [
    "Cerca de 73% dos clientes não saíram, mas a taxa de churn de 26.5% é significativamente alta, o que indica um problema de retenção."
   ]
  },
  {
   "cell_type": "code",
   "execution_count": 19,
   "id": "14781952",
   "metadata": {},
   "outputs": [
    {
     "name": "stdout",
     "output_type": "stream",
     "text": [
      "\n",
      "Média de permanência (tenure) por categoria de Churn:\n",
      "Churn\n",
      "       31.571429\n",
      "No     37.569965\n",
      "Yes    17.979133\n",
      "Name: tenure, dtype: float64\n"
     ]
    }
   ],
   "source": [
    "# Média de permanência para clientes que saíram e que ficaram\n",
    "tenure_por_churn = df.groupby('Churn')['tenure'].mean()\n",
    "\n",
    "print(\"\\nMédia de permanência (tenure) por categoria de Churn:\")\n",
    "print(tenure_por_churn)"
   ]
  },
  {
   "cell_type": "markdown",
   "id": "23af6cb4",
   "metadata": {},
   "source": [
    "Os clientes que saíram (Yes) tinham uma média de permanência de apenas 18 meses, enquanto os que ficaram (No) tinham uma média de 37 meses. Clientes mais antigos têm uma chance muito menor de sair."
   ]
  },
  {
   "cell_type": "code",
   "execution_count": 20,
   "id": "5baae572",
   "metadata": {},
   "outputs": [
    {
     "name": "stdout",
     "output_type": "stream",
     "text": [
      "\n",
      "Média de cobrança mensal por categoria de Churn:\n",
      "Churn\n",
      "       63.412277\n",
      "No     61.265124\n",
      "Yes    74.441332\n",
      "Name: Charges_Monthly, dtype: float64\n"
     ]
    }
   ],
   "source": [
    "# Média de cobrança mensal para clientes que saíram e que ficaram\n",
    "charges_por_churn = df.groupby('Churn')['Charges_Monthly'].mean()\n",
    "\n",
    "print(\"\\nMédia de cobrança mensal por categoria de Churn:\")\n",
    "print(charges_por_churn)"
   ]
  },
  {
   "cell_type": "markdown",
   "id": "e1fe512c",
   "metadata": {},
   "source": [
    "os clientes que saíram (Yes) pagavam uma média de $74 por mês, enquanto os que ficaram (No) pagavam $61. Isso pode indicar que clientes com serviços mais caros (como fibra óptica) são mais propensos a abandonar o serviço."
   ]
  },
  {
   "cell_type": "markdown",
   "id": "180dbe09",
   "metadata": {},
   "source": [
    "# Insights\n",
    "\n",
    "- O dataset tem 7043 clientes, com a maioria não abandonando o serviço, mas uma taxa de churn considerável.\n",
    "\n",
    "- A coluna Charges_Total precisou ser limpa, pois continha valores não numéricos.\n",
    "\n",
    "- Existe uma forte relação entre a permanência do cliente e o churn: clientes mais novos (com menos meses de serviço) são mais propensos a sair.\n",
    "\n",
    "- Há uma aparente relação entre cobranças mensais mais altas e o churn, sugerindo que serviços mais caros podem estar insatisfatórios para os clientes."
   ]
  }
 ],
 "metadata": {
  "kernelspec": {
   "display_name": "alura-store (3.12.3)",
   "language": "python",
   "name": "python3"
  },
  "language_info": {
   "codemirror_mode": {
    "name": "ipython",
    "version": 3
   },
   "file_extension": ".py",
   "mimetype": "text/x-python",
   "name": "python",
   "nbconvert_exporter": "python",
   "pygments_lexer": "ipython3",
   "version": "3.12.3"
  }
 },
 "nbformat": 4,
 "nbformat_minor": 5
}
